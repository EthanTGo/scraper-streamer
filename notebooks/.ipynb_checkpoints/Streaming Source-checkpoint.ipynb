{
 "cells": [
  {
   "cell_type": "code",
   "execution_count": 34,
   "id": "ec1fe7ba",
   "metadata": {},
   "outputs": [],
   "source": [
    "'''\n",
    "The following will be used to initialize a Streaming Data Source\n",
    "\n",
    "\n",
    "'''\n",
    "import numpy as np\n",
    "import pandas as pd\n",
    "import datetime\n",
    "\n",
    "# Install the following with pip if haven't\n",
    "import tweepy\n",
    "\n",
    "# config.py that contains the consumer key and access token\n",
    "from config import *\n"
   ]
  },
  {
   "cell_type": "code",
   "execution_count": 35,
   "id": "8ebd2422",
   "metadata": {},
   "outputs": [],
   "source": [
    "'''\n",
    "For the Authorization for Twitter\n",
    "'''\n",
    "auth = tweepy.OAuthHandler(TWITTER_CONSUMER_KEY, TWITTER_CONSUMER_SECRET)\n",
    "auth.set_access_token(TWITTER_ACCESS_TOKEN, TWITTER_ACCESS_TOKEN_SECRET)\n",
    "api = tweepy.API(auth,wait_on_rate_limit=True)"
   ]
  },
  {
   "cell_type": "code",
   "execution_count": 36,
   "id": "5bd5b0d2",
   "metadata": {},
   "outputs": [],
   "source": [
    "# Setting up the date for the params query\n",
    "today = datetime.date.today()\n",
    "yesterday = today - datetime.timedelta(days = 1)"
   ]
  },
  {
   "cell_type": "code",
   "execution_count": 42,
   "id": "9a536cef",
   "metadata": {},
   "outputs": [],
   "source": [
    "tweets_list = tweepy.Cursor(api.search_tweets, q=\"#donut since:\" + str(yesterday)+ \" until:\" + str(today) + \"-filter:retweets\",\n",
    "                            tweet_mode='extended', lang='en').items()"
   ]
  },
  {
   "cell_type": "code",
   "execution_count": 44,
   "id": "4a8151b7",
   "metadata": {
    "scrolled": false
   },
   "outputs": [
    {
     "ename": "TypeError",
     "evalue": "'Status' object is not subscriptable",
     "output_type": "error",
     "traceback": [
      "\u001b[0;31m---------------------------------------------------------------------------\u001b[0m",
      "\u001b[0;31mTypeError\u001b[0m                                 Traceback (most recent call last)",
      "\u001b[0;32m<ipython-input-44-d3da4327cff9>\u001b[0m in \u001b[0;36m<module>\u001b[0;34m\u001b[0m\n\u001b[1;32m      6\u001b[0m         \u001b[0;32mbreak\u001b[0m\u001b[0;34m\u001b[0m\u001b[0;34m\u001b[0m\u001b[0m\n\u001b[1;32m      7\u001b[0m \u001b[0;34m\u001b[0m\u001b[0m\n\u001b[0;32m----> 8\u001b[0;31m     \u001b[0;32mif\u001b[0m \u001b[0;32mnot\u001b[0m \u001b[0mtweet\u001b[0m\u001b[0;34m[\u001b[0m\u001b[0;34m'retweeted'\u001b[0m\u001b[0;34m]\u001b[0m\u001b[0;34m:\u001b[0m\u001b[0;34m\u001b[0m\u001b[0;34m\u001b[0m\u001b[0m\n\u001b[0m\u001b[1;32m      9\u001b[0m         \u001b[0mtext\u001b[0m \u001b[0;34m=\u001b[0m \u001b[0mtweet\u001b[0m\u001b[0;34m.\u001b[0m\u001b[0m_json\u001b[0m\u001b[0;34m[\u001b[0m\u001b[0;34m\"full_text\"\u001b[0m\u001b[0;34m]\u001b[0m\u001b[0;34m\u001b[0m\u001b[0;34m\u001b[0m\u001b[0m\n\u001b[1;32m     10\u001b[0m         \u001b[0mprint\u001b[0m\u001b[0;34m(\u001b[0m\u001b[0mtext\u001b[0m\u001b[0;34m)\u001b[0m\u001b[0;34m\u001b[0m\u001b[0;34m\u001b[0m\u001b[0m\n",
      "\u001b[0;31mTypeError\u001b[0m: 'Status' object is not subscriptable"
     ]
    }
   ],
   "source": [
    "output = []\n",
    "\n",
    "num_tweets = 0\n",
    "for tweet in tweets_list:\n",
    "    if(num_tweets == 100):\n",
    "        break\n",
    "    \n",
    "    text = tweet._json[\"full_text\"]\n",
    "    print(text)\n",
    "    print('---')\n",
    "    favourite_count = tweet.favorite_count\n",
    "    retweet_count = tweet.retweet_count\n",
    "    created_at = tweet.created_at\n",
    "    \n",
    "    line = {'text' : text, 'favourite_count' : favourite_count, 'retweet_count' : retweet_count, 'created_at' : created_at}\n",
    "    output.append(line)\n",
    "    num_tweets += 1"
   ]
  },
  {
   "cell_type": "code",
   "execution_count": 39,
   "id": "74c542cf",
   "metadata": {},
   "outputs": [],
   "source": [
    "df = pd.DataFrame(output)\n",
    "df.to_csv('output.csv')"
   ]
  },
  {
   "cell_type": "code",
   "execution_count": null,
   "id": "4d6e653f",
   "metadata": {},
   "outputs": [],
   "source": []
  }
 ],
 "metadata": {
  "kernelspec": {
   "display_name": "Python 3",
   "language": "python",
   "name": "python3"
  },
  "language_info": {
   "codemirror_mode": {
    "name": "ipython",
    "version": 3
   },
   "file_extension": ".py",
   "mimetype": "text/x-python",
   "name": "python",
   "nbconvert_exporter": "python",
   "pygments_lexer": "ipython3",
   "version": "3.8.8"
  }
 },
 "nbformat": 4,
 "nbformat_minor": 5
}
