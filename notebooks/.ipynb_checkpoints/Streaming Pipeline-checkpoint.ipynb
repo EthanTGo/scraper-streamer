{
 "cells": [
  {
   "cell_type": "code",
   "execution_count": 20,
   "id": "bf198ac1",
   "metadata": {},
   "outputs": [],
   "source": [
    "'''\n",
    "I will use this to demonstrate how the streaming pipeline will work for the project\n",
    "'''\n",
    "import numpy as np\n",
    "import pandas as pd\n",
    "import datetime\n",
    "\n",
    "# Install the following with pip if haven't\n",
    "import tweepy\n",
    "\n",
    "# config.py that contains the consumer key and access token\n",
    "from config import *\n"
   ]
  },
  {
   "cell_type": "code",
   "execution_count": 21,
   "id": "08f68472",
   "metadata": {},
   "outputs": [],
   "source": [
    "auth = tweepy.OAuthHandler(TWITTER_CONSUMER_KEY, TWITTER_CONSUMER_SECRET)\n",
    "auth.set_access_token(TWITTER_ACCESS_TOKEN, TWITTER_ACCESS_TOKEN_SECRET)\n",
    "api = tweepy.API(auth,wait_on_rate_limit=True)"
   ]
  },
  {
   "cell_type": "code",
   "execution_count": null,
   "id": "4a20f37b",
   "metadata": {},
   "outputs": [],
   "source": []
  }
 ],
 "metadata": {
  "kernelspec": {
   "display_name": "Python 3",
   "language": "python",
   "name": "python3"
  },
  "language_info": {
   "codemirror_mode": {
    "name": "ipython",
    "version": 3
   },
   "file_extension": ".py",
   "mimetype": "text/x-python",
   "name": "python",
   "nbconvert_exporter": "python",
   "pygments_lexer": "ipython3",
   "version": "3.8.8"
  }
 },
 "nbformat": 4,
 "nbformat_minor": 5
}
